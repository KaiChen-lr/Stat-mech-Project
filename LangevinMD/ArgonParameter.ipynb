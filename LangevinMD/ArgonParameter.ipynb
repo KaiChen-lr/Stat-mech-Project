{
 "cells": [
  {
   "cell_type": "code",
   "execution_count": 8,
   "metadata": {},
   "outputs": [],
   "source": [
    "import numpy as np"
   ]
  },
  {
   "cell_type": "markdown",
   "metadata": {},
   "source": [
    "Parameters for argon gas under 300 Kelvin"
   ]
  },
  {
   "cell_type": "code",
   "execution_count": 9,
   "metadata": {},
   "outputs": [],
   "source": [
    "NA = 6.02214e23  #/mol\n",
    "T = 300  #K\n",
    "rho = 1.784  #kg/m^3\n",
    "N = 200\n",
    "M = 0.039948  #kg/mol"
   ]
  },
  {
   "cell_type": "code",
   "execution_count": 10,
   "metadata": {},
   "outputs": [
    {
     "name": "stdout",
     "output_type": "stream",
     "text": [
      "19.519099582236738\n",
      "3.3971903454338084\n"
     ]
    }
   ],
   "source": [
    "#Calculate the cell length\n",
    "m = (N / NA) * M  #kg\n",
    "V = (m / rho) * (1e27)  #nm^3\n",
    "L = V**(1.0 / 3.0)  #nm\n",
    "print(L)  #nm\n",
    "print(L / (200**0.33))  #Average distance on one axis of each atom"
   ]
  },
  {
   "cell_type": "markdown",
   "metadata": {},
   "source": [
    "Increase the pressure, cell length set to be 6 nm to test Langevin thermostat. "
   ]
  },
  {
   "cell_type": "code",
   "execution_count": 11,
   "metadata": {},
   "outputs": [
    {
     "name": "stdout",
     "output_type": "stream",
     "text": [
      "1.6567788e-21\n"
     ]
    }
   ],
   "source": [
    "kB = 1.380649e-23  #J/K\n",
    "ep = kB * 120.0  #J\n",
    "print(ep)"
   ]
  },
  {
   "cell_type": "markdown",
   "metadata": {},
   "source": [
    "The Lennard-Jones parameters are: $\\sigma = 0.34\\ nm$, $\\frac{\\epsilon}{k_B}= 120\\ K$, $\\epsilon = 1.66 \\times 10^{-21}\\ J$"
   ]
  },
  {
   "cell_type": "code",
   "execution_count": 12,
   "metadata": {},
   "outputs": [
    {
     "name": "stdout",
     "output_type": "stream",
     "text": [
      "1.6567788000000003e-33\n"
     ]
    }
   ],
   "source": [
    "print(ep*1e18*1e-30)"
   ]
  },
  {
   "cell_type": "code",
   "execution_count": 13,
   "metadata": {},
   "outputs": [
    {
     "name": "stdout",
     "output_type": "stream",
     "text": [
      "0.9977353882632\n"
     ]
    }
   ],
   "source": [
    "print(ep*NA/1000.0)"
   ]
  },
  {
   "cell_type": "code",
   "execution_count": 14,
   "metadata": {},
   "outputs": [
    {
     "name": "stdout",
     "output_type": "stream",
     "text": [
      "5.148605430000001e-34\n"
     ]
    }
   ],
   "source": [
    "ep2 = 3.2135 #meV\n",
    "ep2 *= (1e-3) * (1.60218e-19)#J\n",
    "print(ep2*1e18*1e-30)\n"
   ]
  },
  {
   "cell_type": "code",
   "execution_count": 15,
   "metadata": {},
   "outputs": [
    {
     "name": "stdout",
     "output_type": "stream",
     "text": [
      "0.31005622704220204\n"
     ]
    }
   ],
   "source": [
    "ep2 = 3.2135  #meV\n",
    "ep2 *= (1e-3) * (1.60218e-19)  #J\n",
    "print(ep2*NA/1000.0)"
   ]
  }
 ],
 "metadata": {
  "kernelspec": {
   "display_name": "base",
   "language": "python",
   "name": "python3"
  },
  "language_info": {
   "codemirror_mode": {
    "name": "ipython",
    "version": 3
   },
   "file_extension": ".py",
   "mimetype": "text/x-python",
   "name": "python",
   "nbconvert_exporter": "python",
   "pygments_lexer": "ipython3",
   "version": "3.10.13"
  }
 },
 "nbformat": 4,
 "nbformat_minor": 2
}
